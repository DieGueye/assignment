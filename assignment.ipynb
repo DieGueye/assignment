{
 "cells": [
  {
   "cell_type": "markdown",
   "id": "b2932448",
   "metadata": {},
   "source": [
    "# Assignment 01"
   ]
  },
  {
   "cell_type": "markdown",
   "id": "a2710858",
   "metadata": {},
   "source": [
    " 2- Créer une fonction 'pgcd' qui prend en input deux entier et return leur pgcd"
   ]
  },
  {
   "cell_type": "code",
   "execution_count": 4,
   "id": "7b3de36d",
   "metadata": {},
   "outputs": [
    {
     "data": {
      "text/plain": [
       "defined \u001b[32mfunction\u001b[39m \u001b[36mpgcd\u001b[39m"
      ]
     },
     "execution_count": 4,
     "metadata": {},
     "output_type": "execute_result"
    }
   ],
   "source": [
    "def pgcd(a: Int, b: Int): Int = {\n",
    "  if (b == 0) a\n",
    "  else pgcd(b, a % b)\n",
    "}"
   ]
  },
  {
   "cell_type": "code",
   "execution_count": 5,
   "id": "a4fe594c",
   "metadata": {},
   "outputs": [
    {
     "data": {
      "text/plain": [
       "\u001b[36mres4\u001b[39m: \u001b[32mInt\u001b[39m = \u001b[32m1\u001b[39m"
      ]
     },
     "execution_count": 5,
     "metadata": {},
     "output_type": "execute_result"
    }
   ],
   "source": [
    "pgcd(28,313)"
   ]
  },
  {
   "cell_type": "code",
   "execution_count": 6,
   "id": "2cd7655f",
   "metadata": {},
   "outputs": [
    {
     "data": {
      "text/plain": [
       "\u001b[36mres5\u001b[39m: \u001b[32mInt\u001b[39m = \u001b[32m1\u001b[39m"
      ]
     },
     "execution_count": 6,
     "metadata": {},
     "output_type": "execute_result"
    }
   ],
   "source": [
    "pgcd(63,40)"
   ]
  },
  {
   "cell_type": "markdown",
   "id": "4bb2ac3e",
   "metadata": {},
   "source": [
    "4- Créer une fonction 'fibonacci' qui prend en input un entier n puis retourne le terme de rend n+1 de la suite de fibonacci"
   ]
  },
  {
   "cell_type": "code",
   "execution_count": 7,
   "id": "0514c776",
   "metadata": {},
   "outputs": [
    {
     "data": {
      "text/plain": [
       "defined \u001b[32mfunction\u001b[39m \u001b[36mfibonacci\u001b[39m"
      ]
     },
     "execution_count": 7,
     "metadata": {},
     "output_type": "execute_result"
    }
   ],
   "source": [
    "def fibonacci(n: Int): Int = {\n",
    "  if (n < 2) n\n",
    "  else fibonacci(n - 1) + fibonacci(n - 2)\n",
    "}"
   ]
  },
  {
   "cell_type": "code",
   "execution_count": 8,
   "id": "266abecb",
   "metadata": {},
   "outputs": [
    {
     "data": {
      "text/plain": [
       "\u001b[36mres7\u001b[39m: \u001b[32mInt\u001b[39m = \u001b[32m0\u001b[39m"
      ]
     },
     "execution_count": 8,
     "metadata": {},
     "output_type": "execute_result"
    }
   ],
   "source": [
    "fibonacci(0)"
   ]
  },
  {
   "cell_type": "code",
   "execution_count": 9,
   "id": "b14ec3b7",
   "metadata": {},
   "outputs": [
    {
     "data": {
      "text/plain": [
       "\u001b[36mres8\u001b[39m: \u001b[32mInt\u001b[39m = \u001b[32m1\u001b[39m"
      ]
     },
     "execution_count": 9,
     "metadata": {},
     "output_type": "execute_result"
    }
   ],
   "source": [
    "fibonacci(1)"
   ]
  },
  {
   "cell_type": "code",
   "execution_count": 10,
   "id": "b09f0d16",
   "metadata": {},
   "outputs": [
    {
     "data": {
      "text/plain": [
       "\u001b[36mres9\u001b[39m: \u001b[32mInt\u001b[39m = \u001b[32m317811\u001b[39m"
      ]
     },
     "execution_count": 10,
     "metadata": {},
     "output_type": "execute_result"
    }
   ],
   "source": [
    "fibonacci(28)"
   ]
  },
  {
   "cell_type": "code",
   "execution_count": 11,
   "id": "619cb3ef",
   "metadata": {},
   "outputs": [
    {
     "data": {
      "text/plain": [
       "\u001b[36mres10\u001b[39m: \u001b[32mInt\u001b[39m = \u001b[32m102334155\u001b[39m"
      ]
     },
     "execution_count": 11,
     "metadata": {},
     "output_type": "execute_result"
    }
   ],
   "source": [
    "fibonacci(40)"
   ]
  },
  {
   "cell_type": "code",
   "execution_count": null,
   "id": "ab938866",
   "metadata": {},
   "outputs": [],
   "source": [
    "fibonacci(313)"
   ]
  },
  {
   "cell_type": "markdown",
   "id": "4f974f14",
   "metadata": {},
   "source": [
    "# Assignment 02"
   ]
  },
  {
   "cell_type": "markdown",
   "id": "e1874db2",
   "metadata": {},
   "source": [
    "**Exercice 1:** Écrire une fonction qui prend une chaîne de caractères en entrée et renvoie une fonction qui ajoute un préfixe spécifique à la chaîne d'origine. Par exemple, si la chaîne d'entrée est \"Hello\", la fonction renvoyée doit prendre une chaîne et renvoyer \"Hello \" + la chaîne."
   ]
  },
  {
   "cell_type": "code",
   "execution_count": 5,
   "id": "2977e176",
   "metadata": {},
   "outputs": [
    {
     "data": {
      "text/plain": [
       "defined \u001b[32mfunction\u001b[39m \u001b[36majoutPrefixe\u001b[39m\n",
       "\u001b[36majoutHello\u001b[39m: \u001b[32mString\u001b[39m => \u001b[32mString\u001b[39m = ammonite.$sess.cmd4$Helper$$Lambda$2119/470790009@3b421294\n",
       "\u001b[36mres4_2\u001b[39m: \u001b[32mString\u001b[39m = \u001b[32m\"Hello world\"\u001b[39m"
      ]
     },
     "execution_count": 5,
     "metadata": {},
     "output_type": "execute_result"
    }
   ],
   "source": [
    "def ajoutPrefixe(str: String): String => String = {\n",
    "  def prefixe(s: String): String = str + \" \" + s\n",
    "  prefixe\n",
    "}\n",
    "val ajoutHello = ajoutPrefixe(\"Hello\")\n",
    "ajoutHello(\"world\")"
   ]
  },
  {
   "cell_type": "markdown",
   "id": "3db484fc",
   "metadata": {},
   "source": [
    "**Exercice 2:** Écrire une fonction qui prend une liste d'entiers et renvoie une fonction qui prend un entier et renvoie vrai si l'entier est dans la liste et faux sinon. Utilisez une clôture (ou la fermeture) pour stocker la liste d'entiers."
   ]
  },
  {
   "cell_type": "code",
   "execution_count": 10,
   "id": "5065b47c",
   "metadata": {},
   "outputs": [
    {
     "data": {
      "text/plain": [
       "defined \u001b[32mfunction\u001b[39m \u001b[36mestDansListe\u001b[39m\n",
       "\u001b[36mmaList\u001b[39m: \u001b[32mList\u001b[39m[\u001b[32mInt\u001b[39m] = \u001b[33mList\u001b[39m(\u001b[32m11\u001b[39m, \u001b[32m23\u001b[39m, \u001b[32m43\u001b[39m, \u001b[32m74\u001b[39m, \u001b[32m5\u001b[39m)\n",
       "\u001b[36mcontains\u001b[39m: \u001b[32mInt\u001b[39m => \u001b[32mBoolean\u001b[39m = ammonite.$sess.cmd9$Helper$$Lambda$2193/1276778794@528ff1e3\n",
       "\u001b[36mres9_3\u001b[39m: \u001b[32mBoolean\u001b[39m = false\n",
       "\u001b[36mres9_4\u001b[39m: \u001b[32mBoolean\u001b[39m = true"
      ]
     },
     "execution_count": 10,
     "metadata": {},
     "output_type": "execute_result"
    }
   ],
   "source": [
    "def estDansListe(list: List[Int]): Int => Boolean = {\n",
    "  val set = list.toSet\n",
    "  (x: Int) => set.contains(x)\n",
    "}\n",
    "val maListe = List(11, 23, 43, 74, 5)\n",
    "val contains = estDansListe(maListe)\n",
    "contains(7)\n",
    "contains(23)"
   ]
  },
  {
   "cell_type": "markdown",
   "id": "d64de1c8",
   "metadata": {},
   "source": [
    "**Exercice 3**: Écrire une fonction qui prend une liste de chaînes et renvoie une fonction qui prend une chaîne et renvoie vrai si la chaîne est dans la liste et faux sinon. Utilisez une clôture pour stocker la liste de chaînes. Assurez vous que la fonction renvoyée est pure et qu'elle ne modifie pas la liste d'entrée."
   ]
  },
  {
   "cell_type": "code",
   "execution_count": 13,
   "id": "31d7e135",
   "metadata": {},
   "outputs": [
    {
     "data": {
      "text/plain": [
       "defined \u001b[32mfunction\u001b[39m \u001b[36mestDansListe\u001b[39m\n",
       "\u001b[36mmaListe\u001b[39m: \u001b[32mList\u001b[39m[\u001b[32mString\u001b[39m] = \u001b[33mList\u001b[39m(\u001b[32m\"Maman\"\u001b[39m, \u001b[32m\"va\"\u001b[39m, \u001b[32m\"au\"\u001b[39m, \u001b[32m\"marche\"\u001b[39m)\n",
       "\u001b[36mcontains\u001b[39m: \u001b[32mString\u001b[39m => \u001b[32mBoolean\u001b[39m = ammonite.$sess.cmd12$Helper$$Lambda$2250/1357870691@46d3db26\n",
       "\u001b[36mres12_3\u001b[39m: \u001b[32mBoolean\u001b[39m = true\n",
       "\u001b[36mres12_4\u001b[39m: \u001b[32mBoolean\u001b[39m = false"
      ]
     },
     "execution_count": 13,
     "metadata": {},
     "output_type": "execute_result"
    }
   ],
   "source": [
    "def estDansListe(list: List[String]): String => Boolean = {\n",
    "  val set = list.toSet\n",
    "  (str: String) => set.contains(str)\n",
    "}\n",
    "val maListe = List(\"Maman\",\"va\",\"au\", \"marche\")\n",
    "val contains = estDansListe(maListe)\n",
    "contains(\"Maman\")\n",
    "contains(\"cuisine\")"
   ]
  },
  {
   "cell_type": "code",
   "execution_count": null,
   "id": "a237a300",
   "metadata": {},
   "outputs": [],
   "source": []
  }
 ],
 "metadata": {
  "kernelspec": {
   "display_name": "Scala",
   "language": "scala",
   "name": "scala"
  },
  "language_info": {
   "codemirror_mode": "text/x-scala",
   "file_extension": ".sc",
   "mimetype": "text/x-scala",
   "name": "scala",
   "nbconvert_exporter": "script",
   "version": "2.12.11"
  }
 },
 "nbformat": 4,
 "nbformat_minor": 5
}
